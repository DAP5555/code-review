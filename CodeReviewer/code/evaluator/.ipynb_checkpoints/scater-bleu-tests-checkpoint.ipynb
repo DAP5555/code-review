{
 "cells": [
  {
   "cell_type": "code",
   "execution_count": 5,
   "id": "e72986f2-dcc8-4730-92a1-86303f04c918",
   "metadata": {},
   "outputs": [
    {
     "name": "stdout",
     "output_type": "stream",
     "text": [
      "done\n",
      "Channels:\n",
      " - conda-forge\n",
      " - defaults\n",
      " - nvidia\n",
      " - pytorch\n",
      "Platform: linux-64\n",
      "doneecting package metadata (repodata.json): - \n",
      "doneing environment: \\ \n",
      "\n",
      "## Package Plan ##\n",
      "\n",
      "  environment location: /home/vm-admin/miniconda3/envs/codereviewer-env\n",
      "\n",
      "  added / updated specs:\n",
      "    - sacrebleu\n",
      "\n",
      "\n",
      "The following packages will be downloaded:\n",
      "\n",
      "    package                    |            build\n",
      "    ---------------------------|-----------------\n",
      "    ca-certificates-2025.1.31  |       hbcca054_0         154 KB  conda-forge\n",
      "    ------------------------------------------------------------\n",
      "                                           Total:         154 KB\n",
      "\n",
      "The following packages will be UPDATED:\n",
      "\n",
      "  ca-certificates    pkgs/main::ca-certificates-2024.12.31~ --> conda-forge::ca-certificates-2025.1.31-hbcca054_0 \n",
      "\n",
      "The following packages will be SUPERSEDED by a higher-priority channel:\n",
      "\n",
      "  certifi            pkgs/main/linux-64::certifi-2024.12.1~ --> conda-forge/noarch::certifi-2024.12.14-pyhd8ed1ab_0 \n",
      "\n",
      "\n",
      "\n",
      "Downloading and Extracting Packages:\n",
      "                                                                                \n",
      "donearing transaction: / \n",
      "donefying transaction: \\ \n",
      "doneuting transaction: / \n",
      "\n",
      "Note: you may need to restart the kernel to use updated packages.\n"
     ]
    }
   ],
   "source": [
    "conda install -c conda-forge sacrebleu"
   ]
  },
  {
   "cell_type": "code",
   "execution_count": null,
   "id": "e193272a-613c-4a09-80ef-fa6a243bc075",
   "metadata": {},
   "outputs": [],
   "source": []
  }
 ],
 "metadata": {
  "kernelspec": {
   "display_name": "Python 3 (ipykernel)",
   "language": "python",
   "name": "python3"
  },
  "language_info": {
   "codemirror_mode": {
    "name": "ipython",
    "version": 3
   },
   "file_extension": ".py",
   "mimetype": "text/x-python",
   "name": "python",
   "nbconvert_exporter": "python",
   "pygments_lexer": "ipython3",
   "version": "3.12.3"
  }
 },
 "nbformat": 4,
 "nbformat_minor": 5
}
